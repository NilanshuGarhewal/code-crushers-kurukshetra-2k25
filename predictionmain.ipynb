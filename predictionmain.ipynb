{
 "cells": [
  {
   "cell_type": "code",
   "execution_count": null,
   "metadata": {},
   "outputs": [],
   "source": [
    "import pandas as pd\n",
    "import joblib\n",
    "import numpy as np\n",
    "import re\n",
    "import tldextract\n",
    "from collections import Counter \n",
    "from scipy.stats import entropy \n",
    "from urllib.parse import urlparse"
   ]
  },
  {
   "cell_type": "code",
   "execution_count": 25,
   "metadata": {},
   "outputs": [
    {
     "name": "stdout",
     "output_type": "stream",
     "text": [
      "Model Loaded\n"
     ]
    }
   ],
   "source": [
    "predictmodel = joblib.load(\"main_model.pkl\")\n",
    "print(\"Model Loaded\")"
   ]
  },
  {
   "cell_type": "code",
   "execution_count": 36,
   "metadata": {},
   "outputs": [],
   "source": [
    "#function to extract thee features to compare with the given url\n",
    "def keypoints_that_extract(url_input):\n",
    "    keypoints = {}\n",
    "    keypoints[\"URL lenght\"] = len(url_input)\n",
    "    keypoints[\"Number of dots\"] = url_input.count(\".\")\n",
    "    keypoints[\"Number of slashes\"] = url_input.count(\"/\")\n",
    "    keypoints[\"Percentage of numerical characters\"] = sum(c.isdigit() for c in url_input) / len(url_input)\n",
    "    def url_entropy():\n",
    "        frequency = Counter(url_input)\n",
    "        probability = [frequency[i] / len(url_input) for i in frequency]\n",
    "        return entropy(probability, base = 2)\n",
    "    keypoints[\"Entropy\"] = url_entropy()\n",
    "    \n",
    "    #for IP address\n",
    "    IP_address_pattern = r'[0-9]+(?:\\.[0-9]+){3}'\n",
    "    keypoints[\"IP Address\"] = bool(re.search(IP_address_pattern, url_input))\n",
    "    \n",
    "    keypoints[\"Domain name length\"] = len(tldextract.extract(url_input).domain)\n",
    "    keypoints[\"Repetitions\"] = bool(re.search(r'(.)\\1{2,}', tldextract.extract(url_input).domain))\n",
    "    keypoints[\"Redirections\"] = url_input[7:].find(\"//\") != -1\n",
    "    \n",
    "    keypoints[\"Dangerous characters\"] = 0  \n",
    "    keypoints[\"Dangerous TLD\"] = 0  \n",
    "    keypoints[\"Suspicious keywords\"] = 0  \n",
    "    keypoints[\"Entropy and length (PCA)\"] = 0 \n",
    "    \n",
    "    return pd.DataFrame([keypoints])"
   ]
  },
  {
   "cell_type": "code",
   "execution_count": 37,
   "metadata": {},
   "outputs": [],
   "source": [
    "url_input = input(\"Enter the URL: \")"
   ]
  },
  {
   "cell_type": "code",
   "execution_count": 38,
   "metadata": {},
   "outputs": [],
   "source": [
    "Extracted_keypoints = keypoints_that_extract(url_input)"
   ]
  },
  {
   "cell_type": "code",
   "execution_count": 39,
   "metadata": {},
   "outputs": [],
   "source": [
    "Extracted_keypoints = Extracted_keypoints[predictmodel.feature_names_in_]"
   ]
  },
  {
   "cell_type": "code",
   "execution_count": 40,
   "metadata": {},
   "outputs": [],
   "source": [
    "Extracted_keypoints = Extracted_keypoints.astype(float)"
   ]
  },
  {
   "cell_type": "code",
   "execution_count": 41,
   "metadata": {},
   "outputs": [],
   "source": [
    "predictionmade = predictmodel.predict(Extracted_keypoints)[0] "
   ]
  },
  {
   "cell_type": "code",
   "execution_count": 42,
   "metadata": {},
   "outputs": [
    {
     "name": "stdout",
     "output_type": "stream",
     "text": [
      "The url is not safe\n"
     ]
    }
   ],
   "source": [
    "#result \n",
    "if predictionmade == 1:\n",
    "    print(\"The url is safe\")\n",
    "else:\n",
    "    print(\"The url is not safe\")"
   ]
  }
 ],
 "metadata": {
  "kernelspec": {
   "display_name": "Python 3",
   "language": "python",
   "name": "python3"
  },
  "language_info": {
   "codemirror_mode": {
    "name": "ipython",
    "version": 3
   },
   "file_extension": ".py",
   "mimetype": "text/x-python",
   "name": "python",
   "nbconvert_exporter": "python",
   "pygments_lexer": "ipython3",
   "version": "3.10.0"
  }
 },
 "nbformat": 4,
 "nbformat_minor": 2
}
